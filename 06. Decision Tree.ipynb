{
 "cells": [
  {
   "cell_type": "markdown",
   "metadata": {},
   "source": [
    "# Chapter 6: Decision Trees"
   ]
  },
  {
   "cell_type": "markdown",
   "metadata": {},
   "source": [
    "Bab ini membahas **Decision Trees**, sebuah algoritma Machine Learning serbaguna yang dapat melakukan tugas klasifikasi, regresi, dan bahkan *multioutput*.\n",
    "\n",
    "Decision Trees adalah algoritma yang kuat dan menjadi komponen fundamental dari **Random Forests**, yang merupakan salah satu algoritma ML paling kuat saat ini. Keunggulan utama dari Decision Trees adalah modelnya yang intuitif dan mudah diinterpretasikan, sering disebut sebagai model *white box*."
   ]
  },
  {
   "cell_type": "markdown",
   "metadata": {},
   "source": [
    "## Training and Visualizing a Decision Tree"
   ]
  },
  {
   "cell_type": "markdown",
   "metadata": {},
   "source": [
    "Kita bisa melatih dan memvisualisasikan Decision Tree dengan mudah menggunakan Scikit-Learn. Model ini membuat prediksi dengan mengajukan serangkaian pertanyaan sederhana tentang fitur data, dimulai dari *root node* hingga mencapai *leaf node*."
   ]
  },
  {
   "cell_type": "code",
   "execution_count": null,
   "metadata": {},
   "outputs": [],
   "source": [
    "from sklearn.datasets import load_iris\n",
    "from sklearn.tree import DecisionTreeClassifier\n",
    "\n",
    "# Menggunakan dataset iris\n",
    "iris = load_iris()\n",
    "X = iris.data[:, 2:] # petal length and width\n",
    "y = iris.target\n",
    "\n",
    "# Melatih model Decision Tree Classifier\n",
    "tree_clf = DecisionTreeClassifier(max_depth=2, random_state=42)\n",
    "tree_clf.fit(X, y)"
   ]
  },
  {
   "cell_type": "markdown",
   "metadata": {},
   "source": [
    "### Cara Kerja Model\n",
    "Setiap *node* dalam pohon mengajukan pertanyaan tentang sebuah fitur (misalnya, \"apakah panjang petal <= 2.45 cm?\"). Berdasarkan jawaban, kita pindah ke *child node* kiri atau kanan. Proses ini berlanjut sampai kita mencapai *leaf node*, yang tidak memiliki *child node* dan berisi prediksi kelas akhir.\n",
    "\n",
    "Beberapa atribut penting dalam sebuah *node*:\n",
    "* **`samples`**: Jumlah *instance* pelatihan yang berlaku pada *node* ini.\n",
    "* **`value`**: Jumlah *instance* pelatihan dari setiap kelas yang berlaku pada *node* ini.\n",
    "* **`gini`**: Ukuran *impurity* (ketidakmurnian) dari *node*. Sebuah *node* dianggap \"murni\" (`gini=0`) jika semua *instance* yang berlaku padanya berasal dari kelas yang sama."
   ]
  },
  {
   "cell_type": "markdown",
   "metadata": {},
   "source": [
    "## The CART Training Algorithm"
   ]
  },
  {
   "cell_type": "markdown",
   "metadata": {},
   "source": [
    "Scikit-Learn menggunakan algoritma **Classification and Regression Tree (CART)** untuk melatih Decision Trees. Algoritma ini bekerja dengan membagi *training set* menjadi dua subset menggunakan satu fitur `k` dan sebuah *threshold* `tk`.\n",
    "\n",
    "CART mencari pasangan `(k, tk)` yang menghasilkan subset paling murni (diukur dengan Gini impurity untuk klasifikasi atau MSE untuk regresi). Proses ini dilakukan secara rekursif hingga mencapai kedalaman maksimum atau tidak dapat menemukan pemisahan yang mengurangi *impurity*.\n",
    "\n",
    "CART adalah algoritma *greedy*: ia mencari pemisahan optimal di tingkat atas, lalu mengulanginya di setiap tingkat. Ini menghasilkan solusi yang cukup baik, tetapi tidak dijamin optimal."
   ]
  },
  {
   "cell_type": "markdown",
   "metadata": {},
   "source": [
    "## Regularization Hyperparameters"
   ]
  },
  {
   "cell_type": "markdown",
   "metadata": {},
   "source": [
    "Decision Trees sangat fleksibel dan dapat beradaptasi dengan data pelatihan secara sangat dekat, yang membuatnya rentan terhadap *overfitting*. Untuk menghindarinya, kita perlu membatasi kebebasannya selama pelatihan melalui regularisasi.\n",
    "\n",
    "Beberapa *hyperparameter* regularisasi yang umum:\n",
    "* `max_depth`: Kedalaman maksimum pohon.\n",
    "* `min_samples_split`: Jumlah minimum *instance* yang harus dimiliki sebuah *node* sebelum dapat dipecah.\n",
    "* `min_samples_leaf`: Jumlah minimum *instance* yang harus dimiliki sebuah *leaf node*.\n",
    "* `max_leaf_nodes`: Jumlah maksimum *leaf node*.\n",
    "* `max_features`: Jumlah maksimum fitur yang dievaluasi untuk pemisahan di setiap *node*.\n",
    "\n",
    "Meningkatkan `min_*` atau mengurangi `max_*` akan meregularisasi model."
   ]
  },
  {
   "cell_type": "markdown",
   "metadata": {},
   "source": [
    "## Regression"
   ]
  },
  {
   "cell_type": "markdown",
   "metadata": {},
   "source": [
    "Decision Trees juga mampu melakukan tugas regresi. Perbedaan utamanya adalah, alih-alih memprediksi kelas di setiap *node*, ia memprediksi sebuah nilai. Prediksi nilai di sebuah *region* adalah nilai rata-rata dari semua *instance* pelatihan di *region* tersebut."
   ]
  },
  {
   "cell_type": "code",
   "execution_count": null,
   "metadata": {},
   "outputs": [],
   "source": [
    "from sklearn.tree import DecisionTreeRegressor\n",
    "import numpy as np\n",
    "\n",
    "# Membuat data kuadratik acak\n",
    "np.random.seed(42)\n",
    "m = 200\n",
    "X = np.random.rand(m, 1) * 10 - 5\n",
    "y = 0.5 * X**2 + X + 2 + np.random.randn(m, 1)\n",
    "\n",
    "# Melatih model Decision Tree Regressor\n",
    "tree_reg = DecisionTreeRegressor(max_depth=2, random_state=42)\n",
    "tree_reg.fit(X, y)"
   ]
  },
  {
   "cell_type": "markdown",
   "metadata": {},
   "source": [
    "## Instability"
   ]
  },
  {
   "cell_type": "markdown",
   "metadata": {},
   "source": [
    "Meskipun kuat, Decision Trees memiliki beberapa keterbatasan. Mereka sangat sensitif terhadap variasi kecil dalam data pelatihan. Menghapus satu *instance* saja bisa menghasilkan pohon yang sangat berbeda. Mereka juga menyukai *decision boundary* yang ortogonal (tegak lurus terhadap sumbu), yang membuat mereka sensitif terhadap rotasi data.\n",
    "\n",

"Kelemahan ini dapat diatasi dengan menggunakan **Random Forests**, yang akan dibahas di bab selanjutnya."
   ]
  }
 ],
 "metadata": {
  "kernelspec": {
   "display_name": "Python 3",
   "language": "python",
   "name": "python3"
  },
  "language_info": {
   "codemirror_mode": {
    "name": "ipython",
    "version": 3
   },
   "file_extension": ".py",
   "mimetype": "text/x-python",
   "name": "python",
   "nbconvert_exporter": "python",
   "pygments_lexer": "ipython3",
   "version": "3.8.8"
  }
 },
 "nbformat": 4,
 "nbformat_minor": 4
}

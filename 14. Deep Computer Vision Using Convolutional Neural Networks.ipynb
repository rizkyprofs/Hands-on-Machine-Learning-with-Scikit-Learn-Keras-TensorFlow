{
 "cells": [
  {
   "cell_type": "markdown",
   "metadata": {},
   "source": [
    "# Chapter 14: Deep Computer Vision Using Convolutional Neural Networks"
   ]
  },
  {
   "cell_type": "markdown",
   "metadata": {},
   "source": [
    "Bab ini menyelami dunia **Computer Vision** menggunakan **Convolutional Neural Networks (CNNs)**. CNNs adalah arsitektur jaringan saraf yang menjadi pendorong utama sebagian besar kemajuan dalam Computer Vision modern, mulai dari klasifikasi gambar, deteksi objek, hingga segmentasi gambar.\n",
    "\n",
    "Arsitektur CNN terinspirasi oleh korteks visual otak hewan. Ide utamanya adalah bahwa neuron-neuron awal di korteks visual bereaksi terhadap area visual yang kecil dan tumpang tindih (disebut *receptive fields*). Pola ini diulang di seluruh bidang visual. Lapisan neuron yang lebih tinggi kemudian menggabungkan output dari lapisan bawahnya untuk mendeteksi pola yang lebih kompleks.\n",
    "\n",
    "Kita akan membahas:\n",
    "* Lapisan-lapisan fundamental yang membentuk sebuah CNN: **Convolutional Layer** dan **Pooling Layer**.\n",
    "* Cara menumpuk lapisan-lapisan ini untuk membangun arsitektur CNN yang dalam.\n",
    "* Mengimplementasikan CNN menggunakan Keras untuk tugas klasifikasi gambar.\n",
    "* Arsitektur CNN modern yang canggih seperti **ResNet**, **Xception**, dan **SENet**."
   ]
  },
  {
   "cell_type": "markdown",
   "metadata": {},
   "source": [
    "## Convolutional Layers"
   ]
  },
  {
   "cell_type": "markdown",
   "metadata": {},
   "source": [
    "**Convolutional Layer** adalah blok bangunan paling penting dari sebuah CNN. Alih-alih menghubungkan setiap neuron ke setiap piksel di input (seperti pada MLP), neuron di *convolutional layer* hanya terhubung ke piksel di *receptive field* lokalnya.\n",
    "\n",
    "Lapisan ini bekerja dengan menggeser satu set bobot yang dapat dilatih, yang disebut **filter** (atau *kernel*), di seluruh gambar input. Setiap filter belajar untuk mendeteksi pola tertentu, seperti tepi vertikal, tepi horizontal, atau tekstur tertentu. Output dari lapisan ini adalah serangkaian **feature maps**, yang menunjukkan area di mana filter mendeteksi polanya.\n",
    "\n",
    "Dua parameter penting dalam *convolutional layer* adalah:\n",
    "* **`padding`**: Menambahkan piksel nol di sekitar batas gambar. Ini memungkinkan filter untuk diterapkan di tepi gambar dan mempertahankan ukuran spasial *feature map*.\n",
    "* **`stride`**: Jarak geser filter di setiap langkah."
   ]
  },
  {
   "cell_type": "markdown",
   "metadata": {},
   "source": [
    "## Pooling Layers"
   ]
  },
  {
   "cell_type": "markdown",
   "metadata": {},
   "source": [
    "Tujuan dari **Pooling Layer** adalah untuk melakukan *subsampling* (yaitu, mengecilkan) *feature map*. Ini membantu mengurangi jumlah parameter, beban komputasi, dan memori yang digunakan oleh jaringan, serta memberikan tingkat *invariance* (ketahanan) terhadap translasi kecil pada input.\n",
    "\n",
    "Jenis *pooling* yang paling umum adalah **Max Pooling**. Ini bekerja dengan mengambil nilai maksimum dari setiap *region* kecil di *feature map*."
   ]
  },
  {
   "cell_type": "markdown",
   "metadata": {},
   "source": [
    "## Implementing a CNN with Keras"
   ]
  },
  {
   "cell_type": "markdown",
   "metadata": {},
   "source": [
    "Arsitektur CNN yang umum biasanya terdiri dari beberapa *convolutional layer*, diikuti oleh *pooling layer*, diulang beberapa kali. Semakin dalam jaringannya, lapisan-lapisan awal cenderung belajar pola visual tingkat rendah (seperti tepi dan sudut), sementara lapisan yang lebih dalam belajar pola tingkat tinggi (seperti bentuk atau objek utuh). Di bagian akhir, *feature map* diratakan (*flattened*) dan dihubungkan ke beberapa *fully connected layer* (Dense) untuk menghasilkan prediksi akhir."
   ]
  },
  {
   "cell_type": "code",
   "execution_count": null,
   "metadata": {},
   "outputs": [],
   "source": [
    "import tensorflow as tf\n",
    "from tensorflow import keras\n",
    "import numpy as np\n",
    "import pandas as pd\n",
    "import matplotlib.pyplot as plt\n",
    "\n",
    "# Memuat dataset Fashion MNIST\n",
    "fashion_mnist = keras.datasets.fashion_mnist\n",
    "(X_train_full, y_train_full), (X_test, y_test) = fashion_mnist.load_data()\n",
    "\n",
    "# Membagi data dan melakukan penskalaan. Menambahkan dimensi channel.\n",
    "X_train = X_train_full[5000:].astype(np.float32) / 255\n",
    "X_valid = X_train_full[:5000].astype(np.float32) / 255\n",
    "y_train = y_train_full[5000:]\n",
    "y_valid = y_train_full[:5000]\n",
    "X_train = X_train[..., np.newaxis]\n",
    "X_valid = X_valid[..., np.newaxis]\n",
    "X_test = X_test.astype(np.float32) / 255\n",
    "X_test = X_test[..., np.newaxis]\n",
    "\n",
    "# Membangun model CNN sederhana\n",
    "model = keras.models.Sequential([\n",
    "    keras.layers.Conv2D(64, 7, activation=\"relu\", padding=\"same\", input_shape=[28, 28, 1]),\n",
    "    keras.layers.MaxPooling2D(2),\n",
    "    keras.layers.Conv2D(128, 3, activation=\"relu\", padding=\"same\"),\n",
    "    keras.layers.Conv2D(128, 3, activation=\"relu\", padding=\"same\"),\n",
    "    keras.layers.MaxPooling2D(2),\n",
    "    keras.layers.Flatten(),\n",
    "    keras.layers.Dense(128, activation=\"relu\"),\n",
    "    keras.layers.Dropout(0.5),\n",
    "    keras.layers.Dense(64, activation=\"relu\"),\n",
    "    keras.layers.Dropout(0.5),\n",
    "    keras.layers.Dense(10, activation=\"softmax\")\n",
    "])\n",
    "\n",
    "model.compile(loss=\"sparse_categorical_crossentropy\", optimizer=\"nadam\", metrics=[\"accuracy\"])\n",
    "history = model.fit(X_train, y_train, epochs=10, validation_data=(X_valid, y_valid))"
   ]
  },
  {
   "cell_type": "markdown",
   "metadata": {},
   "source": [
    "### Visualisasi Pelatihan"
   ]
  },
  {
   "cell_type": "markdown",
   "metadata": {},
   "source": [
    "Setelah pelatihan, penting untuk memvisualisasikan kurva pembelajaran untuk melihat bagaimana kinerja model dari waktu ke waktu. Ini dapat membantu kita mendiagnosis masalah seperti *overfitting* atau *underfitting*."
   ]
  },
  {
   "cell_type": "code",
   "execution_count": null,
   "metadata": {},
   "outputs": [],
   "source": [
    "pd.DataFrame(history.history).plot(figsize=(8, 5))\n",
    "plt.grid(True)\n",
    "plt.gca().set_ylim(0, 1) # Mengatur batas sumbu y antara 0 dan 1\n",
    "plt.title('Kurva Pembelajaran Model')\n",
    "plt.xlabel('Epoch')\n",
    "plt.ylabel('Akurasi / Loss')\n",
    "plt.show()"
   ]
  },
  {
   "cell_type": "markdown",
   "metadata": {},
   "source": [
    "## Modern CNN Architectures"
   ]
  },
  {
   "cell_type": "markdown",
   "metadata": {},
   "source": [
    "Bidang Computer Vision telah berkembang pesat berkat inovasi dalam arsitektur CNN.\n",
    "\n",
    "### ResNet (Residual Network)\n",
    "Salah satu terobosan terbesar adalah **ResNet**, yang memperkenalkan konsep *residual connection* atau *skip connection*. Koneksi ini memungkinkan gradien untuk mengalir langsung melalui jaringan, melewati beberapa lapisan. Ini memungkinkan pelatihan jaringan yang sangat dalam (bahkan lebih dari 100 lapisan) tanpa mengalami masalah *vanishing gradient*.\n",
    "\n",
    "### Xception & SENet\n",
    "* **Xception:** Memperluas ide dari arsitektur Inception (GoogLeNet) dan menggabungkannya dengan *depthwise separable convolutions* untuk membuat arsitektur yang sangat efisien.\n",
    "* **SENet (Squeeze-and-Excitation Network):** Meningkatkan arsitektur yang ada dengan menambahkan *SE blocks* yang secara eksplisit memodelkan ketergantungan antar-channel, memungkinkan jaringan untuk melakukan *feature recalibration* (belajar menyesuaikan bobot *feature map* secara adaptif)."
   ]
  },
  {
   "cell_type": "code",
   "execution_count": null,
   "metadata": {},
   "outputs": [],
   "source": [
    "# Contoh konseptual sebuah Residual Block menggunakan Functional API\n",
    "from tensorflow.keras.layers import Conv2D, Add, ReLU, Input\n",
    "from tensorflow.keras.models import Model\n",
    "\n",
    "inputs = Input(shape=(28, 28, 128))\n",
    "conv1 = Conv2D(128, 3, padding='same')(inputs)\n",
    "relu1 = ReLU()(conv1)\n",
    "conv2 = Conv2D(128, 3, padding='same')(relu1)\n",
    "\n",
    "# Skip Connection\n",
    "skip_connection = Add()([inputs, conv2])\n",
    "output = ReLU()(skip_connection)\n",
    "\n",
    "residual_block = Model(inputs=inputs, outputs=output)\n",
    "residual_block.summary()"
   ]
  }
 ],
 "metadata": {
  "kernelspec": {
   "display_name": "Python 3",
   "language": "python",
   "name": "python3"
  },
  "language_info": {
   "codemirror_mode": {
    "name": "ipython",
    "version": 3
   },
   "file_extension": ".py",
   "mimetype": "text/x-python",
   "name": "python",
   "nbconvert_exporter": "python",
   "pygments_lexer": "ipython3",
   "version": "3.8.8"
  }
 },
 "nbformat": 4,
 "nbformat_minor": 4
}

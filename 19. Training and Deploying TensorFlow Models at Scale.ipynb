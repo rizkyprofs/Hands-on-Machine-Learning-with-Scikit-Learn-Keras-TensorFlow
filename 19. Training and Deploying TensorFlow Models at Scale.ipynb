{
 "cells": [
  {
   "cell_type": "markdown",
   "metadata": {},
   "source": [
    "# Chapter 19: Training and Deploying TensorFlow Models at Scale"
   ]
  },
  {
   "cell_type": "markdown",
   "metadata": {},
   "source": [
    "Setelah kita berhasil melatih model yang hebat, langkah selanjutnya adalah membawanya ke tahap produksi. Bab ini membahas aspek-aspek praktis dan teknis untuk menyajikan (*serving*) dan melatih model TensorFlow dalam skala besar.\n",
    "\n",
    "Topik utama yang akan kita bahas:\n",
    "* **Menyajikan Model dengan TensorFlow Serving:** Cara mengekspor model ke format `SavedModel` dan men-deploy-nya menggunakan TF Serving, sebuah server model berkinerja tinggi.\n",
    "* **Men-deploy Model di Google Cloud AI Platform:** Menggunakan layanan cloud untuk menyajikan model kita dengan skalabilitas otomatis.\n",
    "* **Men-deploy Model ke Perangkat Mobile atau Embedded:** Menggunakan **TensorFlow Lite (TFLite)** untuk mengoptimalkan dan menjalankan model di perangkat dengan sumber daya terbatas.\n",
    "* **Melatih Model di Banyak Perangkat:** Menggunakan GPU dan **Distribution Strategies API** dari TensorFlow untuk mempercepat pelatihan dengan mendistribusikan komputasi di beberapa GPU atau bahkan beberapa mesin."
   ]
  },
  {
   "cell_type": "markdown",
   "metadata": {},
   "source": [
    "## Serving a TensorFlow Model with TensorFlow Serving"
   ]
  },
  {
   "cell_type": "markdown",
   "metadata": {},
   "source": [
    "Setelah model dilatih, cara terbaik untuk menggunakannya dalam aplikasi produksi adalah dengan membungkusnya dalam sebuah layanan web. **TensorFlow Serving** adalah solusi yang efisien dan teruji untuk ini. Ia dapat menyajikan beberapa model atau versi, dan secara otomatis men-deploy versi terbaru.\n",
    "\n",
    "### Mengekspor Model ke Format `SavedModel`\n",
    "Langkah pertama adalah menyimpan model terlatih kita ke dalam format `SavedModel`, format universal TensorFlow untuk serialisasi model."
   ]
  },
  {
   "cell_type": "code",
   "execution_count": null,
   "metadata": {},
   "outputs": [],
   "source": [
    "import tensorflow as tf\n",
    "from tensorflow import keras\n",
    "import os\n",
    "\n",
    "# Asumsikan kita punya model Keras yang sudah dilatih\n",
    "model = keras.models.Sequential([\n",
    "    keras.layers.Dense(10, input_shape=[8]),\n",
    "    keras.layers.Dense(1)\n",
    "])\n",
    "# model.compile(...) & model.fit(...)\n",
    "\n",
    "# Menyimpan model ke format SavedModel\n",
    "model_version = \"0001\"\n",
    "model_name = \"my_regression_model\"\n",
    "model_path = os.path.join(\"Chapter 19\", model_name, model_version)\n",
    "\n",
    "# tf.saved_model.save(model, model_path)\n",
    "# Untuk model Keras, cara yang lebih mudah adalah:\n",
    "model.save(model_path)"
   ]
  },
  {
   "cell_type": "markdown",
   "metadata": {},
   "source": [
    "### Menggunakan TensorFlow Serving\n",
    "Setelah model disimpan, kita bisa menggunakan Docker untuk menjalankan TF Serving dan menyajikan model kita melalui REST API atau gRPC API."
   ]
  },
  {
   "cell_type": "code",
   "execution_count": null,
   "metadata": {},
   "outputs": [],
   "source": [
    "# Konseptual: Membuat permintaan REST ke TF Serving\n",
    "import json\n",
    "import requests\n",
    "import numpy as np\n",
    "\n",
    "# Data input dummy\n",
    "X_new = np.random.rand(3, 8).astype(np.float32)\n",
    "\n",
    "input_data_json = json.dumps({\n",
    "    \"signature_name\": \"serving_default\",\n",
    "    \"instances\": X_new.tolist(),\n",
    "})\n",
    "\n",
    "SERVER_URL = 'http://localhost:8501/v1/models/my_regression_model:predict'\n",
    "# response = requests.post(SERVER_URL, data=input_data_json)\n",
    "# y_proba = np.array(response.json()[\"predictions\"])"
   ]
  },
  {
   "cell_type": "markdown",
   "metadata": {},
   "source": [
    "## Deploying a Model to a Mobile or Embedded Device"
   ]
  },
  {
   "cell_type": "markdown",
   "metadata": {},
   "source": [
    "Untuk perangkat mobile atau embedded, kita perlu model yang ringan dan efisien. **TensorFlow Lite (TFLite)** menyediakan alat untuk ini, dengan tiga tujuan utama:\n",
    "1. **Mengurangi ukuran model:** Agar unduhan lebih cepat dan penggunaan RAM lebih sedikit.\n",
    "2. **Mengurangi komputasi:** Untuk latensi yang lebih rendah dan konsumsi baterai yang lebih hemat.\n",
    "3. **Menyesuaikan model:** Dengan batasan perangkat tertentu.\n",
    "\n",
    "Ini dicapai melalui teknik seperti **quantization**, di mana bobot model diubah dari float 32-bit menjadi integer 8-bit, mengurangi ukuran model hingga 4x."
   ]
  },
  {
   "cell_type": "code",
   "execution_count": null,
   "metadata": {},
   "outputs": [],
   "source": [
    "# Mengonversi SavedModel ke format TFLite\n",
    "saved_model_path = os.path.join(\"Chapter 19\", model_name, model_version)\n",
    "\n",
    "converter = tf.lite.TFLiteConverter.from_saved_model(saved_model_path)\n",
    "\n",
    "# Mengaktifkan optimisasi (misalnya, quantization)\n",
    "converter.optimizations = [tf.lite.Optimize.DEFAULT]\n",
    "\n",
    "tflite_model = converter.convert()\n",
    "\n",
    "# Menyimpan model TFLite\n",
    "with open(\"Chapter 19/converted_model.tflite\", \"wb\") as f:\n",
    "    f.write(tflite_model)"
   ]
  },
  {
   "cell_type": "markdown",
   "metadata": {},
   "source": [
    "## Training Models Across Multiple Devices"
   ]
  },
  {
   "cell_type": "markdown",
   "metadata": {},
   "source": [
    "Pelatihan DNN yang besar bisa sangat lambat. Untuk mempercepatnya, kita bisa mendistribusikan pelatihan di beberapa perangkat (GPU atau TPU).\n",
    "\n",
    "**Data Parallelism** adalah pendekatan yang paling umum: model direplikasi di setiap perangkat, dan setiap replika dilatih pada *mini-batch* data yang berbeda. Gradien yang dihasilkan kemudian diagregasi untuk memperbarui parameter model.\n",
    "\n",
    "TensorFlow menyediakan **Distribution Strategies API** untuk melakukan ini dengan mudah. **`MirroredStrategy`** adalah strategi yang paling umum untuk pelatihan di beberapa GPU pada satu mesin."
   ]
  },
  {
   "cell_type": "code",
   "execution_count": null,
   "metadata": {},
   "outputs": [],
   "source": [
    "# Konseptual: Menggunakan MirroredStrategy\n",
    "import numpy as np\n",
    "\n",
    "# Membuat strategi\n",
    "distribution = tf.distribute.MirroredStrategy()\n",
    "\n",
    "# Membuat dan mengkompilasi model di dalam scope strategi\n",
    "with distribution.scope():\n",
    "    mirrored_model = keras.models.Sequential([\n",
    "        keras.layers.Dense(10, activation='relu', input_shape=[8]),\n",
    "        keras.layers.Dense(1)\n",
    "    ])\n",
    "    mirrored_model.compile(loss=\"mse\", optimizer=\"sgd\")\n",
    "\n",
    "# Dummy data untuk pelatihan\n",
    "X_train = np.random.rand(1000, 8)\n",
    "y_train = np.random.rand(1000, 1)\n",
    "\n",
    "# Melatih model seperti biasa\n",
    "# history = mirrored_model.fit(X_train, y_train, epochs=10)"
   ]
  },
  {
   "cell_type": "markdown",
   "metadata": {},
   "source": [
    "### Visualisasi Perbandingan Kecepatan Pelatihan"
   ]
  },
  {
   "cell_type": "markdown",
   "metadata": {},
   "source": [
    "Menggunakan beberapa GPU dapat secara dramatis mengurangi waktu pelatihan, meskipun peningkatannya tidak selalu linear karena adanya overhead komunikasi antar perangkat."
   ]
  },
  {
   "cell_type": "code",
   "execution_count": null,
   "metadata": {},
   "outputs": [],
   "source": [
    "import matplotlib.pyplot as plt\n",
    "\n",
    "# Data dummy konseptual untuk perbandingan waktu pelatihan\n",
    "devices = ['1 GPU', '2 GPUs', '4 GPUs', '8 GPUs']\n",
    "training_time = [60, 35, 20, 15] # dalam menit\n",
    "\n",
    "plt.figure(figsize=(8, 5))\n",
    "plt.bar(devices, training_time, color='skyblue')\n",
    "plt.xlabel(\"Jumlah Perangkat\")\n",
    "plt.ylabel(\"Waktu Pelatihan (menit)\")\n",
    "plt.title(\"Perbandingan Kecepatan Pelatihan dengan Data Parallelism\")\n",
    "plt.show()"
   ]
  }
 ],
 "metadata": {
  "kernelspec": {
   "display_name": "Python 3",
   "language": "python",
   "name": "python3"
  },
  "language_info": {
   "codemirror_mode": {
    "name": "ipython",
    "version": 3
   },
   "file_extension": ".py",
   "mimetype": "text/x-python",
   "name": "python",
   "nbconvert_exporter": "python",
   "pygments_lexer": "ipython3",
   "version": "3.8.8"
  }
 },
 "nbformat": 4,
 "nbformat_minor": 4
}

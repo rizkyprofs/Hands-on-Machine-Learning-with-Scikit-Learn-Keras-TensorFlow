{
 "cells": [
  {
   "cell_type": "markdown",
   "metadata": {},
   "source": [
    "# Chapter 9: Unsupervised Learning Techniques"
   ]
  },
  {
   "cell_type": "markdown",
   "metadata": {},
   "source": [
    "Meskipun sebagian besar aplikasi Machine Learning saat ini berbasis *supervised learning*, sebagian besar data yang tersedia di dunia ini tidak berlabel. Bab ini membahas **Unsupervised Learning**, sebuah cabang ML di mana algoritma belajar dari data tanpa label.\n",
    "\n",
    "Kita akan mengeksplorasi beberapa tugas dan algoritma *unsupervised learning* yang paling umum:\n",
    "* **Clustering:** Mengelompokkan *instance* yang mirip ke dalam *cluster*.\n",
    "* **Anomaly Detection:** Belajar seperti apa data \"normal\" dan kemudian menggunakannya untuk mendeteksi *instance* yang tidak normal (*outlier*).\n",
    "* **Density Estimation:** Memperkirakan fungsi kepadatan probabilitas (PDF) dari proses acak yang menghasilkan dataset."
   ]
  },
  {
   "cell_type": "markdown",
   "metadata": {},
   "source": [
    "## Clustering"
   ]
  },
  {
   "cell_type": "markdown",
   "metadata": {},
   "source": [
    "**Clustering** adalah tugas mengidentifikasi *instance* yang mirip dan menugaskannya ke dalam *cluster*, atau grup *instance* yang serupa. Ini adalah alat yang hebat untuk analisis data, segmentasi pelanggan, sistem rekomendasi, dan banyak lagi.\n",
    "\n",
    "Tidak seperti klasifikasi, clustering adalah tugas yang tidak diawasi (*unsupervised*)."
   ]
  },
  {
   "cell_type": "markdown",
   "metadata": {},
   "source": [
    "### K-Means"
   ]
  },
  {
   "cell_type": "markdown",
   "metadata": {},
   "source": [
    "K-Means adalah algoritma sederhana yang mampu mengelompokkan dataset dengan sangat cepat dan efisien. Algoritma ini mencoba menemukan pusat setiap *cluster* (disebut *centroid*) dan menugaskan setiap *instance* ke *cluster* terdekat.\n",
    "\n",
    "Kelemahan utamanya adalah kita harus menentukan jumlah *cluster* (`k`) di awal dan K-Means tidak bekerja dengan baik pada *cluster* dengan ukuran, kepadatan, atau bentuk yang tidak bulat."
   ]
  },
  {
   "cell_type": "code",
   "execution_count": null,
   "metadata": {},
   "outputs": [],
   "source": [
    "from sklearn.cluster import KMeans\n",
    "from sklearn.datasets import make_blobs\n",
    "\n",
    "# Membuat dataset blobs\n",
    "X, y = make_blobs(n_samples=1000, centers=5, random_state=42)\n",
    "\n",
    "# Melatih model K-Means\n",
    "kmeans = KMeans(n_clusters=5, random_state=42)\n",
    "y_pred = kmeans.fit_predict(X)\n",
    "\n",
    "print(\"Centroids:\")\n",
    "print(kmeans.cluster_centers_)"
   ]
  },
  {
   "cell_type": "markdown",
   "metadata": {},
   "source": [
    "### DBSCAN"
   ]
  },
  {
   "cell_type": "markdown",
   "metadata": {},
   "source": [
    "**DBSCAN (Density-Based Spatial Clustering of Applications with Noise)** mendefinisikan *cluster* sebagai wilayah kontinu dengan kepadatan tinggi.\n",
    "\n",
    "Cara kerjanya:\n",
    "1. Untuk setiap *instance*, algoritma menghitung berapa banyak *instance* lain yang berada dalam jarak kecil `eps` (epsilon).\n",
    "2. Jika sebuah *instance* memiliki setidaknya `min_samples` tetangga (termasuk dirinya sendiri), ia dianggap sebagai *core instance*.\n",
    "3. Semua *instance* di lingkungan *core instance* termasuk dalam *cluster* yang sama.\n",
    "4. Setiap *instance* yang bukan *core instance* dan tidak memiliki tetangga *core instance* dianggap sebagai anomali.\n",
    "\n",
    "Algoritma ini mampu menemukan *cluster* dengan bentuk apa pun dan tangguh terhadap *outlier*."
   ]
  },
  {
   "cell_type": "code",
   "execution_count": null,
   "metadata": {},
   "outputs": [],
   "source": [
    "from sklearn.cluster import DBSCAN\n",
    "from sklearn.datasets import make_moons\n",
    "\n",
    "X, y = make_moons(n_samples=1000, noise=0.05, random_state=42)\n",
    "\n",
    "dbscan = DBSCAN(eps=0.2, min_samples=5)\n",
    "dbscan.fit(X)"
   ]
  },
  {
   "cell_type": "markdown",
   "metadata": {},
   "source": [
    "## Gaussian Mixtures"
   ]
  },
  {
   "cell_type": "markdown",
   "metadata": {},
   "source": [
    "**Gaussian Mixture Model (GMM)** adalah model probabilistik yang mengasumsikan bahwa *instance* dihasilkan dari campuran beberapa distribusi Gaussian yang parameternya tidak diketahui. Semua *instance* yang dihasilkan dari satu distribusi Gaussian membentuk sebuah *cluster* yang biasanya terlihat seperti elipsoid.\n",
    "\n",
    "Model ini dapat digunakan untuk estimasi kepadatan, *clustering*, dan deteksi anomali."
   ]
  },
  {
   "cell_type": "code",
   "execution_count": null,
   "metadata": {},
   "outputs": [],
   "source": [
    "from sklearn.mixture import GaussianMixture\n",
    "\n",
    "# Menggunakan dataset blobs dari contoh K-Means\n",
    "X, y = make_blobs(n_samples=1000, centers=5, random_state=42)\n",
    "\n",
    "gm = GaussianMixture(n_components=5, n_init=10, random_state=42)\n",
    "gm.fit(X)\n",
    "\n",
    "print(\"Bobot cluster:\", gm.weights_)\n",
    "print(\"Pusat cluster (means):\", gm.means_)"
   ]
  },
  {
   "cell_type": "markdown",
   "metadata": {},
   "source": [
    "### Menggunakan GMM untuk Deteksi Anomali dan Pemilihan Jumlah Cluster"
   ]
  },
  {
   "cell_type": "markdown",
   "metadata": {},
   "source": [
    "* **Anomaly Detection:** Setiap *instance* yang terletak di wilayah dengan kepadatan rendah dapat dianggap sebagai anomali. Kita dapat menentukan ambang batas kepadatan untuk menandai *outlier*.\n",
    "\n",
    "* **Memilih Jumlah Cluster:** Tidak seperti K-Means, kita tidak bisa menggunakan metrik seperti *inertia*. Sebagai gantinya, kita dapat mencoba menemukan model yang meminimalkan kriteria informasi teoretis seperti **Bayesian Information Criterion (BIC)** atau **Akaike Information Criterion (AIC)**. Model dengan BIC/AIC terendah seringkali merupakan pilihan terbaik."
   ]
  }
 ],
 "metadata": {
  "kernelspec": {
   "display_name": "Python 3",
   "language": "python",
   "name": "python3"
  },
  "language_info": {
   "codemirror_mode": {
    "name": "ipython",
    "version": 3
   },
   "file_extension": ".py",
   "mimetype": "text/x-python",
   "name": "python",
   "nbconvert_exporter": "python",
   "pygments_lexer": "ipython3",
   "version": "3.8.8"
  }
 },
 "nbformat": 4,
 "nbformat_minor": 4
}
